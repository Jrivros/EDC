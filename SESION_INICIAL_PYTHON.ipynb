{
  "nbformat": 4,
  "nbformat_minor": 0,
  "metadata": {
    "colab": {
      "provenance": [],
      "collapsed_sections": [
        "IzhSvjjsukPv"
      ],
      "toc_visible": true,
      "include_colab_link": true
    },
    "kernelspec": {
      "name": "python3",
      "display_name": "Python 3"
    },
    "language_info": {
      "name": "python"
    }
  },
  "cells": [
    {
      "cell_type": "markdown",
      "metadata": {
        "id": "view-in-github",
        "colab_type": "text"
      },
      "source": [
        "<a href=\"https://colab.research.google.com/github/Jrivros/EDC/blob/main/SESION_INICIAL_PYTHON.ipynb\" target=\"_parent\"><img src=\"https://colab.research.google.com/assets/colab-badge.svg\" alt=\"Open In Colab\"/></a>"
      ]
    },
    {
      "cell_type": "markdown",
      "source": [
        "# Sesion 3"
      ],
      "metadata": {
        "id": "IzhSvjjsukPv"
      }
    },
    {
      "cell_type": "markdown",
      "source": [
        "**Variables**\n",
        "\n",
        "* Almacenamiento\n",
        "** Constantes\n",
        "\n",
        "* Operacionales\n",
        "* * Contadores\n",
        "* * Acumuladores\n",
        "* * Operaciones\n",
        "\n",
        "\n",
        "**Operadores**\n",
        "*  Aritmeticos\n",
        "*  Logicos\n",
        "*  Relacionales\n",
        "\n",
        "\n",
        "\n",
        "**Estructuras de Control**\n",
        "\n",
        "\n",
        "\n",
        "*   Decisión\n",
        "*   Iteración\n",
        "\n",
        "\n",
        "\n",
        "**Estructuras de datos**\n",
        "*    Tuplas\n",
        "*Listas\n",
        "*Pilas\n",
        "*Colas\n",
        "*Diccionarios\n",
        "\n",
        "**Funciones de una Lista**"
      ],
      "metadata": {
        "id": "z6Q_-7ktW-tx"
      }
    },
    {
      "cell_type": "code",
      "execution_count": null,
      "metadata": {
        "id": "VGpMcrX8V10K",
        "colab": {
          "base_uri": "https://localhost:8080/"
        },
        "outputId": "522f7f05-9e08-4ed6-d9f3-8f5ab011653c"
      },
      "outputs": [
        {
          "output_type": "stream",
          "name": "stdout",
          "text": [
            "Hola Mundo\n"
          ]
        }
      ],
      "source": [
        "print(\"Hola Mundo\")"
      ]
    },
    {
      "cell_type": "code",
      "source": [
        "#constante\n",
        "variable1= 5\n",
        "#acumuladorX OPERACION\n",
        "variable2=5\n",
        "variable1=5 + variable2\n",
        "#ACUMULADOR\n",
        "suma=0\n",
        "suma=variable2+suma\n",
        "#contador\n",
        "con=0\n",
        "con=con+1\n",
        "\n",
        "# Operadores\n",
        "\n",
        "# Aritmeticos +-/* (){}[]\n",
        "#1.()[]{}\n",
        "#2.Multiplicaciones\n",
        "#3.Sumas y restas\n",
        "\n",
        "#  Logicos  \"and\" \"or\" \"Not\"\n",
        "\n",
        "\n",
        "#  Relacionales <, >, ==, <=, >=, !=\n",
        "\n",
        "\n",
        "#Estructuras de Control\n",
        "\n",
        "#Decisión if \"Decision simple\" / if else \"Decision Compuesta\"/ \"Decision\"  elif\n",
        "print(\"Decision Compuesta\")\n",
        "if(variable1<2):\n",
        "  print(\"Es menor a 2\")\n",
        "else:\n",
        "  print(\"Es mayor a 2\")\n",
        "\n",
        "variable1=1\n",
        "print(\"\\nDecision Multiple\")\n",
        "print(variable1)\n",
        "if(variable1==2):\n",
        "  print(\"Es  2\")\n",
        "elif(variable1==1):\n",
        "  print(\"Es 1\")\n",
        "elif(variable1==3):\n",
        "  print(\"Es mayor a 2\")\n",
        "else:\n",
        "  print(\"Es mayor a 3\")\n",
        "\n",
        "\n",
        "#Iteración   Do-while\"no existe\", While, For\n",
        "\n",
        "#While (0-infinito)\n",
        "print(\"\\nWhile\")\n",
        "a=5\n",
        "while(a>3):\n",
        "  print(a)\n",
        "  a=a-1\n",
        "\n",
        "#Do while \"Realiza mientras la variable cumpla la condicion\"\n",
        "#\"Realiza mientras la variable no cumpla la condicion\"\n",
        "a=8\n",
        "print(\"\\nDo While\")\n",
        "while(True):\n",
        "  print(a)\n",
        "  if (a<3):\n",
        "    break\n",
        "  a=a-1\n",
        "\n",
        "\n",
        "#For \"realiza X cantidad de repeticiones\"}\n",
        "print(\"\\n For\")\n",
        "for i in range(1,6,1):\n",
        "#Usa la variable i para repetir en el rango siguiente de 0 a 5 avanzando 1paso\n",
        "  print(i)\n",
        "\n",
        "#imprime la variable usada en este for\n",
        "\n",
        "#como mostrar en simbolo de sistema la version de python\n",
        "#En la barra de busqueda de Windows escribir cmd para abrir la consola y escribir \"Python --version\"\n",
        "#verificar si python esta instalado en el sistema y verificar que version,\"esto me ayuda a confirmar si el error o incidencia corresponde a una actualizacion o cambio en dicha actualizada\"\n",
        "\n",
        "\n",
        "\n",
        "\n"
      ],
      "metadata": {
        "id": "SBk8VebSYwrN",
        "colab": {
          "base_uri": "https://localhost:8080/"
        },
        "outputId": "65a70381-34e5-48b7-f600-a01a5b0a73f7"
      },
      "execution_count": null,
      "outputs": [
        {
          "output_type": "stream",
          "name": "stdout",
          "text": [
            "Decision Compuesta\n",
            "Es mayor a 2\n",
            "\n",
            "Decision Multiple\n",
            "1\n",
            "Es 1\n",
            "\n",
            "While\n",
            "5\n",
            "4\n",
            "\n",
            "Do While\n",
            "8\n",
            "7\n",
            "6\n",
            "5\n",
            "4\n",
            "3\n",
            "2\n",
            "\n",
            " For\n",
            "1\n",
            "2\n",
            "3\n",
            "4\n",
            "5\n"
          ]
        }
      ]
    },
    {
      "cell_type": "markdown",
      "source": [
        "Se realiza un program que imprima hola Mundo\n",
        "\n"
      ],
      "metadata": {
        "id": "FdS92Pali4we"
      }
    },
    {
      "cell_type": "code",
      "source": [
        "# prompt: Se realiza un programa que imprima hola Mundo\n",
        "\n",
        "print(\"Hola Mundo\")\n",
        "\n",
        "print(\"hola\"+str(variable1))\n",
        "print(\"hola\",variable1)\n",
        "print(f\"hola {variable1} y adios {variable2}\")"
      ],
      "metadata": {
        "colab": {
          "base_uri": "https://localhost:8080/"
        },
        "id": "2qhEXK_IjDDL",
        "outputId": "2237919d-17ac-4ced-f594-0e79570b5286"
      },
      "execution_count": null,
      "outputs": [
        {
          "output_type": "stream",
          "name": "stdout",
          "text": [
            "Hola Mundo\n",
            "hola1\n",
            "hola 1\n",
            "hola 1 y adios 5\n"
          ]
        }
      ]
    },
    {
      "cell_type": "code",
      "source": [
        "#enteros int, double\n",
        "#flotantes float\n",
        "#booleanos boolean\n",
        "#cadenas str\n",
        "#caracteres char\n",
        "\n",
        "#Tuplas (colecciones ordenadas de elementos, inmutable, no permite la alteracion de la informacion almacenada)\n",
        "tupla=(a,\"b\",\"c\")\n",
        "tupla=(\"a\",\"b\",\"c\")\n",
        "#Listas (Una coleccion ordenada de elementos, que se modifican agregan o eliminan)\n",
        "lista=[\"a\",1,5,6,8]\n",
        "#       0  1 2 3 4\n",
        "#      -5 -4 -3 -2 -1\n",
        "#cola (almacena datos en un orden de Primeras entradas Primeras salidas (PEPS-FIFO \"First in First out\"))\n",
        "lista.append(\"5\")\n",
        "print(lista.pop(0))\n",
        "print(lista)\n",
        "#pila (almacena datos en un orden de Ultimas entradas Primeras salidas (UEPS-LIFO \"last in First out\"))\n",
        "lista.append(\"5\")\n",
        "print(lista)\n",
        "print(lista.pop(-1))\n",
        "print(lista)\n",
        "\n",
        "list2=[1,2,3,4,[2,8,9],(10,20)]\n",
        "\n",
        "print(list2)\n",
        "print(list2[5][1])\n",
        "list2[4].append(12)\n",
        "print(list2)\n",
        "[1,2,3,4,[2,8,9],20]\n",
        "list2.pop(5)\n",
        "list2.append(20)\n",
        "\n",
        "#diccionario (son colecciones de pares \"clave-valor\"-\"keys-values\")\n",
        "diccionario={\"saludo\":\"Buenos dias\",\"Despedida\":\"Adios\"}\n",
        "print(diccionario[\"saludo\"])\n",
        "\n",
        "diccionario[\"saludo\"]=[\"Buenos dias\",\"Buenas tardes\",\"Buenas noches\"]\n",
        "print(diccionario[\"saludo\"][1])\n",
        "\n"
      ],
      "metadata": {
        "colab": {
          "base_uri": "https://localhost:8080/"
        },
        "id": "2JE4qFlLsQCq",
        "outputId": "2b615559-70d9-48d6-9dec-a75b072ef278"
      },
      "execution_count": null,
      "outputs": [
        {
          "output_type": "stream",
          "name": "stdout",
          "text": [
            "a\n",
            "[1, 5, 6, 8, '5']\n",
            "[1, 5, 6, 8, '5', '5']\n",
            "5\n",
            "[1, 5, 6, 8, '5']\n",
            "[1, 2, 3, 4, [2, 8, 9], (10, 20)]\n",
            "20\n",
            "[1, 2, 3, 4, [2, 8, 9, 12], (10, 20)]\n",
            "Buenos dias\n",
            "Buenas tardes\n"
          ]
        }
      ]
    },
    {
      "cell_type": "code",
      "source": [
        "#input recibe un valor por teclado\n",
        "dato=int(input(\"Ingrese un numero\"))\n",
        "flotante=float(input(\"\"))\n",
        "#input por defecto almacena la informacion en tipo str\n",
        "print(dato)\n",
        "print(int(dato)+1)"
      ],
      "metadata": {
        "colab": {
          "base_uri": "https://localhost:8080/"
        },
        "id": "hJZFZ4GxxV4R",
        "outputId": "e9c074fd-f4fa-4df1-f0dc-463872c76c53"
      },
      "execution_count": null,
      "outputs": [
        {
          "output_type": "stream",
          "name": "stdout",
          "text": [
            "Ingrese un numero6\n",
            "3.2\n",
            "6\n",
            "7\n"
          ]
        }
      ]
    },
    {
      "cell_type": "markdown",
      "source": [
        "Hacer un programa que imprima los numeros pares que existen del 1 al 100"
      ],
      "metadata": {
        "id": "5pBkw4rY2xp0"
      }
    },
    {
      "cell_type": "markdown",
      "source": [
        "Sesion 5\n"
      ],
      "metadata": {
        "id": "aJ6ymfFwuZ5e"
      }
    },
    {
      "cell_type": "markdown",
      "source": [],
      "metadata": {
        "id": "IsIZPBDLueY-"
      }
    },
    {
      "cell_type": "code",
      "source": [],
      "metadata": {
        "id": "GS-86Ibkui3N"
      },
      "execution_count": null,
      "outputs": []
    },
    {
      "cell_type": "markdown",
      "source": [
        "# Sesion 5\n"
      ],
      "metadata": {
        "id": "T7wtAeaAueyO"
      }
    },
    {
      "cell_type": "markdown",
      "source": [
        "**Librerias**\n",
        "\n",
        "**Creacion de Funciones**\n",
        "\n",
        "**Tuplas**\n",
        "\n",
        "**Funciones adicionales de listas y tuplas**\n",
        "\n",
        "\n",
        "***`Proyecto Integrador`***\n",
        "\n",
        "*PIPP 1.-Informacion a Ingresar*\n",
        "\n",
        "*PIPP 2.-Procesamiento de informacion*"
      ],
      "metadata": {
        "id": "xDjGGpYouqCm"
      }
    },
    {
      "cell_type": "code",
      "source": [
        "#Una libreria es un conjunto de funciones diseñadas y almacenadas en un archivo para su uso en diferentes programas\n",
        "#pandas(analisis de datos graficas)/random(obtener datos aleatorios)/Numpy(Procesamiento de numeros\n",
        "#Plotly(Importar datos a cierto tipo de archivos)\n",
        "#Usar la funcion pip (INSTALAR EN EL EQUIPO Y CONFIRMAR QUE ESTA INSTALADA LA LIBRERIA)\n",
        "\n",
        "#aqui se importa toda la libreria random\n",
        "import random\n",
        "#Aqui se imprime en pantalla un numero aleatoria de entre 1 a 10\n",
        "print(random.randint(1,10))\n",
        "#print=\"Mostrar en pantalla\"(random.randint=\"Usar la funcion randint que esta en la libreria Random\")\n",
        "\n",
        "\n",
        "#Aqui extraigo de la libreria random la funcion randint\n",
        "from random import randint\n",
        "#from=de la {libreria/programa} import=\"Extrae\" {funcion/variable}\n",
        "\n",
        "#Aqui extraigo de la libreria random la funcion randint\n",
        "from sesion3 import variable1\n",
        "\n"
      ],
      "metadata": {
        "id": "6IJrhw7_vZcH"
      },
      "execution_count": null,
      "outputs": []
    },
    {
      "cell_type": "code",
      "source": [
        "#Creacion de Funciones\n",
        "\n",
        "#Paradigmas de la programacion:\n",
        "#Funcional/Orientada a Objetos/Reactiva/Declarativa/Secuencial/Estructurada\n",
        "\n",
        "#Funcional se basa e crear funciones especificas que se reutilizar a lo largo del programa\n",
        "#ejemplo\n",
        "\n",
        "#Defino una funcion llamada suma que solicita 2 argumentos y devuelve la suma de ambos argumentos\n",
        "#genero la funcion y la nombro suma\n",
        "#y a los argumentos dentro de esta funcion van a guardarse en las variables a y b\n",
        "\n",
        "def suma(a,b):\n",
        "  linea=a+b\n",
        "  #regreso el valor de la suma de a y b\n",
        "  return a+b\n",
        "def suma1(a,b):\n",
        "  linea=a+b\n",
        "  print(linea)\n",
        "\n",
        "#creo una variable llamada numero y almacena el valor de \"2\"\n",
        "numero=2\n",
        "#creo una variable llamada numero1 y almacena el valor de \"3\"\n",
        "numero1=3\n",
        "valor=suma(numero,numero1)\n",
        "\n",
        "print(suma(numero,numero1))\n",
        "suma1(numero,numero1)\n",
        "\n"
      ],
      "metadata": {
        "colab": {
          "base_uri": "https://localhost:8080/"
        },
        "id": "g7KYHym7xWKn",
        "outputId": "c335cdd5-6d32-4e00-bfba-1cb1e28e998f"
      },
      "execution_count": null,
      "outputs": [
        {
          "output_type": "stream",
          "name": "stdout",
          "text": [
            "5\n",
            "5\n"
          ]
        }
      ]
    },
    {
      "cell_type": "code",
      "source": [
        "#Tuplas\n",
        "#creamos una tupla llamada tupla\n",
        "tupla=(1,2,3,4,5,8,5,10,15,10)\n",
        "#imprimimos la funcion min que busca el valor minimo dentro de un conjunto de datos\n",
        "print(min(tupla))\n",
        "#imprimimos la funcion max que busca el valor maximo dentro de un conjunto de datos\n",
        "print(max(tupla))\n",
        "#imprimimos la funcion count que contabiliza las aparaciones de un dato dentro de un conjunto\n",
        "print(tupla.count(5))\n",
        "#imprimimos la funcion index que muestra la ubicacion del valor dentro de un conjunto\n",
        "print(tupla.index(10))\n",
        "\n",
        "#luis\n",
        "print(tupla[0:5])\n",
        "#Israel\n",
        "print(tupla[1::2])\n",
        "#Cris\n",
        "print(tupla[::-1])\n",
        "\n"
      ],
      "metadata": {
        "colab": {
          "base_uri": "https://localhost:8080/"
        },
        "id": "qw1W4Ycz1cZw",
        "outputId": "5739b6c7-1127-4898-d449-c5d5c2132613"
      },
      "execution_count": null,
      "outputs": [
        {
          "output_type": "stream",
          "name": "stdout",
          "text": [
            "1\n",
            "15\n",
            "2\n",
            "7\n",
            "(1, 2, 3, 4, 5)\n",
            "(2, 4)\n",
            "(10, 15, 10, 5)\n"
          ]
        }
      ]
    },
    {
      "cell_type": "code",
      "source": [],
      "metadata": {
        "id": "rVMvGMTtc1bu"
      },
      "execution_count": null,
      "outputs": []
    },
    {
      "cell_type": "markdown",
      "source": [
        "# Sesion 6"
      ],
      "metadata": {
        "id": "ua_8ETklc2sV"
      }
    },
    {
      "cell_type": "markdown",
      "source": [
        "**Diccionarios**\n",
        "\n",
        "\n",
        "*   Funciones de diccionarios\n",
        "\n",
        "\n",
        "\n",
        "**Estructuras de control **\n",
        "Condicionales\n",
        "\n",
        "*   Condicionales\n",
        "\n",
        "\n",
        "*   *   Condicionales simples\n",
        "*   *   Condicionales compuestas\n",
        "*   *   Condicionales Multiples\n",
        "*   Iteraciones\n",
        "*   *   While\n",
        "*   *   While(True)\"Do-while\"\n",
        "*   *   For"
      ],
      "metadata": {
        "id": "VAub8LKCc-Al"
      }
    },
    {
      "cell_type": "markdown",
      "source": [
        "Diccionarios\n",
        "\n",
        "Agregar valores a una lista\n",
        "Agregar valores al diccionario"
      ],
      "metadata": {
        "id": "ZWdbY5wOhnL-"
      }
    },
    {
      "cell_type": "code",
      "source": [
        "#Diccionarios\n",
        "dic={\"saludo\":[\"Buenos dias\", \"Buenas Tardes\",\"Buenas Noches\"],\"Despedida\":(\"Adios\",\"Hasta Pronto\",\"Hasta Luego\")}\n",
        "print(dic[\"saludo\"][1])\n",
        "dic[\"palabras magicas\"]=[\"Porfavor\",\"Gracias\"]\n",
        "print(dic)\n"
      ],
      "metadata": {
        "colab": {
          "base_uri": "https://localhost:8080/"
        },
        "id": "pqPtjs3HdOAw",
        "outputId": "57c0e662-e7a2-445e-c43f-77a7cdbe8fbc"
      },
      "execution_count": null,
      "outputs": [
        {
          "output_type": "stream",
          "name": "stdout",
          "text": [
            "Buenas Tardes\n",
            "{'saludo': ['Buenos dias', 'Buenas Tardes', 'Buenas Noches'], 'Despedida': ('Adios', 'Hasta Pronto', 'Hasta Luego'), 'palabras magicas': ['Porfavor', 'Gracias']}\n"
          ]
        }
      ]
    },
    {
      "cell_type": "code",
      "source": [
        "\n",
        "\n",
        "print(dic[\"Despedida\"].index(\"Adios\"))"
      ],
      "metadata": {
        "colab": {
          "base_uri": "https://localhost:8080/"
        },
        "id": "wut9FVhwfRxl",
        "outputId": "d9a23e6e-4e15-41cc-9a91-afb6990dab3a"
      },
      "execution_count": null,
      "outputs": [
        {
          "output_type": "stream",
          "name": "stdout",
          "text": [
            "0\n"
          ]
        }
      ]
    },
    {
      "cell_type": "code",
      "source": [
        "print(dic[\"saludo\"])\n"
      ],
      "metadata": {
        "colab": {
          "base_uri": "https://localhost:8080/"
        },
        "id": "STD3T1HUglH3",
        "outputId": "053056a6-d2d4-4c9a-f846-429ae161cba0"
      },
      "execution_count": null,
      "outputs": [
        {
          "output_type": "stream",
          "name": "stdout",
          "text": [
            "['Hola', 'Buenos dias', 'Buenas Tardes', 'Buenas Noches']\n"
          ]
        }
      ]
    },
    {
      "cell_type": "code",
      "source": [
        "print(dic.items())\n",
        "print(dic.keys())\n",
        "claves=[]\n",
        "claves.extend(dic.keys())\n",
        "\n",
        "print(claves)\n",
        "print(dic.values())\n",
        "clabe=claves.copy()\n"
      ],
      "metadata": {
        "colab": {
          "base_uri": "https://localhost:8080/"
        },
        "id": "wackVezbhxTT",
        "outputId": "306426c4-2144-4afb-c473-ffe3bfa61e9a"
      },
      "execution_count": null,
      "outputs": [
        {
          "output_type": "stream",
          "name": "stdout",
          "text": [
            "dict_items([('saludo', ['Hola', 'Buenos dias', 'Buenas Tardes', 'Buenas Noches']), ('Despedida', ('Adios', 'Hasta Pronto', 'Hasta Luego')), ('palabras magicas', ['Porfavor', 'Gracias'])])\n",
            "dict_keys(['saludo', 'Despedida', 'palabras magicas'])\n",
            "['saludo', 'Despedida', 'palabras magicas']\n",
            "dict_values([['Hola', 'Buenos dias', 'Buenas Tardes', 'Buenas Noches'], ('Adios', 'Hasta Pronto', 'Hasta Luego'), ['Porfavor', 'Gracias']])\n"
          ]
        }
      ]
    },
    {
      "cell_type": "markdown",
      "source": [
        "Condicionales\n",
        "\n",
        "Condicionales simples\n",
        "\n",
        "Condicionales compuestas\n",
        "\n",
        "Condicionales Multiples\n",
        "\n",
        "Iteraciones\n",
        "\n",
        "While\n",
        "\n",
        "While(True)\"Do-while\"\n",
        "\n",
        "For"
      ],
      "metadata": {
        "id": "unccRgFfjy_E"
      }
    },
    {
      "cell_type": "code",
      "source": [
        "#simple\n",
        "if(5<3):\n",
        "  print(\"verdadero\")\n",
        "#compuesta\n",
        "if(5>3):\n",
        "  print(\"verdadero\")\n",
        "else:\n",
        "  print(\"falso\")\n",
        "#multiple\n",
        "a=int(input(\"ingresa un numero del 1 al 10\"))\n",
        "if(a>10):\n",
        "  print(\"dato no valido\")\n",
        "elif(a==3):\n",
        "  print(\"3\")\n",
        "elif(a==4):\n",
        "  print(\"4\")\n",
        "elif(a==5):\n",
        "  print(\"5\")\n",
        "else:\n",
        "  print(\"falso\")\n",
        "while(a>10):\n",
        "  print(\"dato no valido\")\n",
        "  a=int(input(\"ingresa un numero del 1 al 10\"))\n",
        "a=int(input(\"ingresa un numero del 1 al 10\"))\n",
        "while(True):\n",
        "  if(a<10):\n",
        "    break\n",
        "  a=int(input(\"ingresa un numero del 1 al 10\"))\n",
        "\n"
      ],
      "metadata": {
        "colab": {
          "base_uri": "https://localhost:8080/"
        },
        "id": "v_yxMfrzjzuz",
        "outputId": "cb262483-7393-48a7-87f7-6b5e2f1a9b18"
      },
      "execution_count": null,
      "outputs": [
        {
          "name": "stdout",
          "output_type": "stream",
          "text": [
            "verdadero\n",
            "ingresa un numero del 1 al 105\n",
            "5\n",
            "ingresa un numero del 1 al 1010\n",
            "dato no valido\n",
            "ingresa un numero del 1 al 105\n"
          ]
        }
      ]
    },
    {
      "cell_type": "code",
      "source": [
        "for a in claves:\n",
        "  print(f\"Los valores de {a} son\")\n",
        "  for b in dic[a]:\n",
        "    print(b)\n"
      ],
      "metadata": {
        "colab": {
          "base_uri": "https://localhost:8080/"
        },
        "id": "IW5mrTZUmfiy",
        "outputId": "3d91f5a1-da8b-4f20-b181-356a632a1028"
      },
      "execution_count": null,
      "outputs": [
        {
          "output_type": "stream",
          "name": "stdout",
          "text": [
            "Los valores de saludo son\n",
            "Hola\n",
            "Buenos dias\n",
            "Buenas Tardes\n",
            "Buenas Noches\n",
            "Los valores de Despedida son\n",
            "Adios\n",
            "Hasta Pronto\n",
            "Hasta Luego\n",
            "Los valores de palabras magicas son\n",
            "Porfavor\n",
            "Gracias\n"
          ]
        }
      ]
    },
    {
      "cell_type": "code",
      "source": [],
      "metadata": {
        "id": "bvtaJ16hj-eQ"
      },
      "execution_count": null,
      "outputs": []
    },
    {
      "cell_type": "markdown",
      "source": [
        "# Sesion 7"
      ],
      "metadata": {
        "id": "N8gCWu0-YEli"
      }
    },
    {
      "cell_type": "markdown",
      "source": [
        "**Introducción a la POO**\n",
        "\n",
        "**Encapsulación y Métodos de Acceso**\n",
        "\n",
        "* Setters\n",
        "* Getters\n",
        "\n",
        "**Métodos en Python**\n",
        "\n",
        "* Definición de Métodos\n",
        "* Métodos de Instancia\n",
        "* Métodos Estáticos\n",
        "* Métodos de Clase\n",
        "\n",
        "**Herencia**\n",
        "\n",
        "* Función super()\n",
        "\n",
        "**Polimorfismo**\n",
        "\n",
        "https://colab.research.google.com/drive/1BDWKPwtH2XgRURdirSB6M90OTw9PBJgi?usp=sharing\n",
        "\n",
        "GITHUB actividades"
      ],
      "metadata": {
        "id": "rvmptIqJYH-i"
      }
    },
    {
      "cell_type": "markdown",
      "source": [
        "Introducción a la POO\n",
        "\n",
        "Programacion orienta a objetos\n",
        "\n",
        "Es la creacion de conceptos digitales con un proposito estructura y comportamiento\n",
        "\n",
        "Tiene Herencias que son acciones que se comparten de un padre a hijo\n",
        "(\n",
        "  class animal():\n",
        "    def respirar\n",
        "    def comer\n",
        "    def reproducirse\n",
        "    def descansar\n",
        "  \n",
        "  class marinos(animal):\n",
        "    def respirar():\n",
        "     respirar=\"agua\"\n",
        "\n",
        ")\n",
        "\n",
        "POLIMORFISMO\n",
        "\n",
        "marinos\n",
        "descansan=flotan\n",
        "respiran=agua\n",
        "tierra\n",
        "descansan=acostados\n",
        "respiran=aire"
      ],
      "metadata": {
        "id": "hXHrmjoAdBjb"
      }
    },
    {
      "cell_type": "code",
      "source": [
        "\n",
        "#Se crea la Superclase Animal que contara con 2 funciones que se heredaran a las diferentes subclases\n",
        "\n",
        "class Animal:  # Clase base (superclase)\n",
        "\n",
        "    def __init__(self, nombre, edad):\n",
        "\n",
        "      #Encapsular\n",
        "      #que tiene de valor nombre=\n",
        "        self.nombre = nombre\n",
        "        self.edad = edad\n",
        "\n",
        "    def hablar(self):\n",
        "        print(\"Sonido genérico de animal\")\n",
        "\n",
        "    def comer(self):\n",
        "        print(\"El animal está comiendo\")\n",
        "\n",
        "#subclase llamad Perro que hereda las funciones de animal( nombre edad, raza )\n",
        "\n",
        "class Perro(Animal):  # Clase derivada (subclase)\n",
        "\n",
        "    def __init__(self, nombre, edad, raza):\n",
        "        #funcion super(solicita la informacion o los proceso de la clase superior a  ella)\n",
        "        super().__init__(nombre, edad)  # Llama al constructor de la clase base\n",
        "        self.raza = raza\n",
        "\n",
        "    def hablar(self):  # Sobrescribe el método hablar()\n",
        "        print(\"Guau guau\")\n",
        "\n",
        "    def ladrar(self):  # Método específico de la clase Perro\n",
        "        print(\"¡El perro está ladrando!\")\n",
        "\n",
        "class Gato(Animal):  # Clase derivada (subclase)\n",
        "    def __init__(self, nombre, edad, color):\n",
        "        super().__init__(nombre, edad)  # Llama al constructor de la clase base\n",
        "        self.color = color\n",
        "\n",
        "    def hablar(self):  # Sobrescribe el método hablar()\n",
        "        print(\"Miau miau\")\n",
        "\n",
        "    def maullar(self):  # Método específico de la clase Gato\n",
        "        print(\"¡El gato está maullando!\")\n",
        "def mostrar(Gato):\n",
        "  print(\"hola\")\n"
      ],
      "metadata": {
        "id": "RgHOwlTxY-NT"
      },
      "execution_count": null,
      "outputs": []
    },
    {
      "cell_type": "code",
      "source": [
        "mascota1 = Perro(\"Max\", 3, \"Labrador\")\n",
        "mascota2 = Gato(\"Luna\", 2, \"Blanco\")\n",
        "mascota3=Animal(\"Trucho\",1)\n"
      ],
      "metadata": {
        "colab": {
          "base_uri": "https://localhost:8080/",
          "height": 176
        },
        "id": "JcnbtDXpiYz4",
        "outputId": "de32b451-d811-4b38-b2c3-c4d21f88b330"
      },
      "execution_count": null,
      "outputs": [
        {
          "output_type": "error",
          "ename": "TypeError",
          "evalue": "mostrar() missing 1 required positional argument: 'Gato'",
          "traceback": [
            "\u001b[0;31m---------------------------------------------------------------------------\u001b[0m",
            "\u001b[0;31mTypeError\u001b[0m                                 Traceback (most recent call last)",
            "\u001b[0;32m<ipython-input-12-94e17cec8a3d>\u001b[0m in \u001b[0;36m<cell line: 0>\u001b[0;34m()\u001b[0m\n\u001b[1;32m      2\u001b[0m \u001b[0mmascota2\u001b[0m \u001b[0;34m=\u001b[0m \u001b[0mGato\u001b[0m\u001b[0;34m(\u001b[0m\u001b[0;34m\"Luna\"\u001b[0m\u001b[0;34m,\u001b[0m \u001b[0;36m2\u001b[0m\u001b[0;34m,\u001b[0m \u001b[0;34m\"Blanco\"\u001b[0m\u001b[0;34m)\u001b[0m\u001b[0;34m\u001b[0m\u001b[0;34m\u001b[0m\u001b[0m\n\u001b[1;32m      3\u001b[0m \u001b[0mmascota3\u001b[0m\u001b[0;34m=\u001b[0m\u001b[0mAnimal\u001b[0m\u001b[0;34m(\u001b[0m\u001b[0;34m\"Trucho\"\u001b[0m\u001b[0;34m,\u001b[0m\u001b[0;36m1\u001b[0m\u001b[0;34m)\u001b[0m\u001b[0;34m\u001b[0m\u001b[0;34m\u001b[0m\u001b[0m\n\u001b[0;32m----> 4\u001b[0;31m \u001b[0mmostrar\u001b[0m\u001b[0;34m(\u001b[0m\u001b[0;34m)\u001b[0m\u001b[0;34m\u001b[0m\u001b[0;34m\u001b[0m\u001b[0m\n\u001b[0m",
            "\u001b[0;31mTypeError\u001b[0m: mostrar() missing 1 required positional argument: 'Gato'"
          ]
        }
      ]
    },
    {
      "cell_type": "code",
      "source": [
        "mascota1.hablar()#guaguau\n",
        "mascota2.hablar()#miaumiau\n",
        "mascota3.hablar()#\"Sonido genérico de animal\""
      ],
      "metadata": {
        "id": "jwONtXDSg9OP",
        "colab": {
          "base_uri": "https://localhost:8080/"
        },
        "outputId": "55109cfe-7692-4a4a-c16f-d1c28856e8e2"
      },
      "execution_count": null,
      "outputs": [
        {
          "output_type": "stream",
          "name": "stdout",
          "text": [
            "Guau guau\n",
            "Miau miau\n",
            "Sonido genérico de animal\n"
          ]
        }
      ]
    },
    {
      "cell_type": "code",
      "source": [
        "mascota1.ladrar()\n",
        "mascota2.maullar()"
      ],
      "metadata": {
        "colab": {
          "base_uri": "https://localhost:8080/"
        },
        "id": "NEkioOLvi_1_",
        "outputId": "ad2934f5-3b5e-4c17-f7df-a975520f9897"
      },
      "execution_count": null,
      "outputs": [
        {
          "output_type": "stream",
          "name": "stdout",
          "text": [
            "¡El perro está ladrando!\n",
            "¡El gato está maullando!\n"
          ]
        }
      ]
    },
    {
      "cell_type": "code",
      "source": [
        "print(mascota1.nombre)\n",
        "print(mascota2.nombre)"
      ],
      "metadata": {
        "colab": {
          "base_uri": "https://localhost:8080/"
        },
        "id": "DW0P49OYjFou",
        "outputId": "51255cdf-31a8-4b54-e1ac-2e8c05a700e4"
      },
      "execution_count": null,
      "outputs": [
        {
          "output_type": "stream",
          "name": "stdout",
          "text": [
            "Max\n",
            "Luna\n"
          ]
        }
      ]
    },
    {
      "cell_type": "code",
      "source": [
        "class Persona:\n",
        "    #*siempre\n",
        "    def __init__(self, nombre, edad):\n",
        "        self._nombre = nombre  # Atributo \"privado\" (convención)\n",
        "        self._edad = edad\n",
        "\n",
        "    #*siempre\n",
        "    # Getter para el atributo nombre\n",
        "    def get_nombre(self):\n",
        "        return self._nombre\n",
        "    #*siempre\n",
        "    # Setter para el atributo nombre\n",
        "    def set_nombre(self, nombre):\n",
        "        if isinstance(nombre, str):  # Validar que sea una cadena\n",
        "            self._nombre = nombre\n",
        "        else:\n",
        "            print(\"Error: El nombre debe ser una cadena.\")\n",
        "\n",
        "    # Getter para el atributo edad\n",
        "    def get_edad(self):\n",
        "        return self._edad\n",
        "\n",
        "    # Setter para el atributo edad\n",
        "    def set_edad(self, edad):\n",
        "        if isinstance(edad, int) and edad >= 0:  # Validar que sea un entero no negativo\n",
        "            self._edad = edad\n",
        "        else:\n",
        "            print(\"Error: La edad debe ser un entero no negativo.\")\n",
        "#*siempre\n",
        "# Crear un objeto Persona\n",
        "persona = Persona(\"Juan\", 30)\n",
        "\n",
        "# Acceder al nombre usando el getter\n",
        "print(f\"Nombre: {persona.get_nombre()}\")  # Imprime: Nombre: Juan\n",
        "\n",
        "# Modificar la edad usando el setter\n",
        "persona.set_edad(35)\n",
        "\n",
        "# Acceder a la edad usando el getter\n",
        "edad = persona.get_edad()\n",
        "print(f\"Edad: {edad}\")  # Imprime: Edad: 35\n",
        "\n",
        "# Intentar establecer un nombre no válido\n",
        "persona.set_nombre(123)"
      ],
      "metadata": {
        "colab": {
          "base_uri": "https://localhost:8080/"
        },
        "id": "8W8dYSVbjxef",
        "outputId": "e576c63e-c364-4f53-93b5-41395b5f7d40"
      },
      "execution_count": null,
      "outputs": [
        {
          "output_type": "stream",
          "name": "stdout",
          "text": [
            "Nombre: Juan\n",
            "Edad: 35\n",
            "Error: El nombre debe ser una cadena.\n"
          ]
        }
      ]
    },
    {
      "cell_type": "code",
      "source": [
        "Persona1=Persona(\"Christian\",26)\n",
        "Persona2=Persona(\"Luis\",22)\n",
        "\n"
      ],
      "metadata": {
        "id": "QVuj31smmt0O"
      },
      "execution_count": null,
      "outputs": []
    },
    {
      "cell_type": "code",
      "source": [
        "print(Persona1.nombre())\n",
        "print(Persona2.get_nombre())\n"
      ],
      "metadata": {
        "colab": {
          "base_uri": "https://localhost:8080/",
          "height": 158
        },
        "id": "PvHCB1VOj-Oe",
        "outputId": "a0b8ed08-17b0-4e29-ab51-4d4a997bcdec"
      },
      "execution_count": null,
      "outputs": [
        {
          "output_type": "error",
          "ename": "AttributeError",
          "evalue": "'Persona' object has no attribute 'nombre'",
          "traceback": [
            "\u001b[0;31m---------------------------------------------------------------------------\u001b[0m",
            "\u001b[0;31mAttributeError\u001b[0m                            Traceback (most recent call last)",
            "\u001b[0;32m<ipython-input-7-041159983492>\u001b[0m in \u001b[0;36m<cell line: 0>\u001b[0;34m()\u001b[0m\n\u001b[0;32m----> 1\u001b[0;31m \u001b[0mprint\u001b[0m\u001b[0;34m(\u001b[0m\u001b[0mPersona1\u001b[0m\u001b[0;34m.\u001b[0m\u001b[0mnombre\u001b[0m\u001b[0;34m(\u001b[0m\u001b[0;34m)\u001b[0m\u001b[0;34m)\u001b[0m\u001b[0;34m\u001b[0m\u001b[0;34m\u001b[0m\u001b[0m\n\u001b[0m\u001b[1;32m      2\u001b[0m \u001b[0mprint\u001b[0m\u001b[0;34m(\u001b[0m\u001b[0mPersona2\u001b[0m\u001b[0;34m.\u001b[0m\u001b[0mget_nombre\u001b[0m\u001b[0;34m(\u001b[0m\u001b[0;34m)\u001b[0m\u001b[0;34m)\u001b[0m\u001b[0;34m\u001b[0m\u001b[0;34m\u001b[0m\u001b[0m\n",
            "\u001b[0;31mAttributeError\u001b[0m: 'Persona' object has no attribute 'nombre'"
          ]
        }
      ]
    },
    {
      "cell_type": "markdown",
      "source": [
        "*Crear un clase llamada motor*\n",
        "\n",
        "*Crear una subclase que use el motor*"
      ],
      "metadata": {
        "id": "yJdZvqhynRSL"
      }
    },
    {
      "cell_type": "code",
      "source": [],
      "metadata": {
        "id": "3rHvwJElnRAF"
      },
      "execution_count": null,
      "outputs": []
    },
    {
      "cell_type": "markdown",
      "source": [
        "# Sesion 8 Actividades GITHUB"
      ],
      "metadata": {
        "id": "9BCpBbrya9oS"
      }
    },
    {
      "cell_type": "markdown",
      "source": [
        "\n",
        "Generar datos aleatorios: Para simular la asistencia de los estudiantes, el sistema debe generar una lista de 10 valores aleatorios (del 1 al 20), donde cada valor representa la cantidad de días que un estudiante ha asistido a clase."
      ],
      "metadata": {
        "id": "afNyPROQbDzK"
      }
    },
    {
      "cell_type": "code",
      "source": [
        "import random\n",
        "lista=[]\n",
        "for i in range(10):\n",
        "   lista.append(random.randint(1,20))\n",
        "   print(lista[i])\n",
        "print(lista)"
      ],
      "metadata": {
        "colab": {
          "base_uri": "https://localhost:8080/"
        },
        "id": "Q_JPuddQbLuT",
        "outputId": "34b6c2e6-cc8e-4d98-d886-c4fc31fde973"
      },
      "execution_count": null,
      "outputs": [
        {
          "output_type": "stream",
          "name": "stdout",
          "text": [
            "9\n",
            "3\n",
            "17\n",
            "9\n",
            "6\n",
            "18\n",
            "2\n",
            "8\n",
            "7\n",
            "17\n",
            "[9, 3, 17, 9, 6, 18, 2, 8, 7, 17]\n"
          ]
        }
      ]
    },
    {
      "cell_type": "markdown",
      "source": [
        "Manejo de nombres de estudiantes: El sistema debe permitir al profesor ingresar los nombres de 5 estudiantes. Luego, debe crear una copia de la lista de nombres en orden inverso y mostrarla"
      ],
      "metadata": {
        "id": "iiU4TCX1c57j"
      }
    },
    {
      "cell_type": "code",
      "source": [
        "nombres=[]\n",
        "for i in range(5):\n",
        "  nombre=input(\"Ingrese el nombre del estudiante\")\n",
        "  while nombre in nombres:\n",
        "    print(\"El nombre ya existe\")\n",
        "    nombre=input(\"Ingrese el nombre del estudiante\")\n",
        "  nombres.append(nombre)\n",
        "print(nombres)\n",
        "nombres_invertidos=nombres[::-1]\n",
        "print(nombres_invertidos)\n"
      ],
      "metadata": {
        "colab": {
          "base_uri": "https://localhost:8080/"
        },
        "id": "ronBLR8bc6zM",
        "outputId": "386a2b88-4c93-4d05-aeba-054810987caf"
      },
      "execution_count": null,
      "outputs": [
        {
          "output_type": "stream",
          "name": "stdout",
          "text": [
            "Ingrese el nombre del estudiantea\n",
            "Ingrese el nombre del estudianteb\n",
            "Ingrese el nombre del estudiantec\n",
            "Ingrese el nombre del estudianted\n",
            "Ingrese el nombre del estudiantee\n",
            "['a', 'b', 'c', 'd', 'e']\n",
            "['e', 'd', 'c', 'b', 'a']\n"
          ]
        }
      ]
    },
    {
      "cell_type": "code",
      "source": [],
      "metadata": {
        "id": "KcH5efGZeZQj"
      },
      "execution_count": null,
      "outputs": []
    }
  ]
}